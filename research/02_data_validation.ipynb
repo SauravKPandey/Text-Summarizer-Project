{
 "cells": [
  {
   "cell_type": "code",
   "execution_count": 1,
   "metadata": {},
   "outputs": [],
   "source": [
    "import os"
   ]
  },
  {
   "cell_type": "code",
   "execution_count": 2,
   "metadata": {},
   "outputs": [
    {
     "data": {
      "text/plain": [
       "'c:\\\\Users\\\\Saura\\\\OneDrive\\\\Desktop\\\\Upskilling-Reskilling\\\\Python and ML\\\\Projects\\\\NLP_Txt_Summarizer\\\\Text-Summarizer-Project\\\\research'"
      ]
     },
     "execution_count": 2,
     "metadata": {},
     "output_type": "execute_result"
    }
   ],
   "source": [
    "%pwd"
   ]
  },
  {
   "cell_type": "code",
   "execution_count": 3,
   "metadata": {},
   "outputs": [],
   "source": [
    "os.chdir('../')"
   ]
  },
  {
   "cell_type": "code",
   "execution_count": 4,
   "metadata": {},
   "outputs": [
    {
     "data": {
      "text/plain": [
       "'c:\\\\Users\\\\Saura\\\\OneDrive\\\\Desktop\\\\Upskilling-Reskilling\\\\Python and ML\\\\Projects\\\\NLP_Txt_Summarizer\\\\Text-Summarizer-Project'"
      ]
     },
     "execution_count": 4,
     "metadata": {},
     "output_type": "execute_result"
    }
   ],
   "source": [
    "%pwd"
   ]
  },
  {
   "cell_type": "code",
   "execution_count": 6,
   "metadata": {},
   "outputs": [],
   "source": [
    "#entity\n",
    "from dataclasses import dataclass\n",
    "from pathlib import Path\n",
    "\n",
    "@dataclass(frozen=True)\n",
    "class DataValidationConfig:\n",
    "    root_dir: Path\n",
    "    STATUS_FILE: str\n",
    "    ALL_REQUIRED_FILES: list\n",
    "\n",
    "\n",
    "\n"
   ]
  },
  {
   "cell_type": "code",
   "execution_count": 9,
   "metadata": {},
   "outputs": [],
   "source": [
    "#Update configuration manager inside src/textSummarizer/config\n",
    "from textSummarizer.constants import *\n",
    "from textSummarizer.utils.common import *\n"
   ]
  },
  {
   "cell_type": "code",
   "execution_count": 8,
   "metadata": {},
   "outputs": [],
   "source": [
    "class ConfigurationManager:\n",
    "    def __init__(\n",
    "        self,\n",
    "        config_filepath=CONFIG_FILE_PATH,\n",
    "        params_filepath=PARAMS_FILE_PATH):\n",
    "        self.config= read_yaml(config_filepath)\n",
    "        self.params = read_yaml(params_filepath)\n",
    "        create_directories([self.config.artifacts_root])\n",
    "    \n",
    "    def get_data_validation_config(self)-> DataValidationConfig:\n",
    "        config= self.config.data_validation\n",
    "        create_directories([config.root_dir])\n",
    "        data_validation_config= DataValidationConfig(\n",
    "            root_dir=config.root_dir,\n",
    "            STATUS_FILE=config.STATUS_FILE,\n",
    "            ALL_REQUIRED_FILES=config.ALL_REQUIRED_FILES,\n",
    "        )\n",
    "        return data_validation_config\n",
    "    \n",
    "\n",
    "    \n"
   ]
  },
  {
   "cell_type": "code",
   "execution_count": 10,
   "metadata": {},
   "outputs": [],
   "source": [
    "#src/textSummarizer/components\n",
    "import os\n",
    "from textSummarizer.logging import logger\n",
    "\n",
    "class DataValidation:\n",
    "    def __init__(self, config: DataValidationConfig):\n",
    "        self.config = config\n",
    "        self.status_file =  self.config.STATUS_FILE\n",
    "        self.all_required_files = self.config.ALL_REQUIRED_FILES\n",
    "    \n",
    "    def validate_all_files_exist(self)-> bool:\n",
    "        try:\n",
    "            validation_status = True\n",
    "            all_files = os.listdir(os.path.join(\"artifacts\", \"data_ingestion\", \"samsum_dataset\"))\n",
    "            for file in all_files:\n",
    "                if file not in self.all_required_files:\n",
    "                    validation_status = False\n",
    "                    logger.error(f\"File {file} is missing\")\n",
    "                    with open(self.status_file, \"w\") as f:\n",
    "                        f.write(f\"Validatetion Stats: {validation_status}\")\n",
    "                else:\n",
    "                    logger.info(f\"File {file} is present\")\n",
    "                    validation_status = True\n",
    "                    with open(self.status_file, \"w\") as f:\n",
    "                        f.write(f\"Validation Stats: {validation_status}\")\n",
    "            return validation_status\n",
    "        except Exception as e:\n",
    "            logger.error(f\"An error occurred during file validation: {str(e)}\")\n",
    "            raise e\n",
    "        \n",
    "\n",
    "        \n"
   ]
  },
  {
   "cell_type": "code",
   "execution_count": 11,
   "metadata": {},
   "outputs": [
    {
     "name": "stdout",
     "output_type": "stream",
     "text": [
      "[2024-07-06 23:51:59,139: INFO: common 24 yaml file : config\\config.yaml loaded successfully]\n",
      "[2024-07-06 23:51:59,167: INFO: common 24 yaml file : params.yaml loaded successfully]\n",
      "[2024-07-06 23:51:59,175: INFO: common 46 Directory already exists : artifacts]\n",
      "[2024-07-06 23:51:59,181: INFO: common 43 Directory created : artifacts\\data_validation]\n",
      "[2024-07-06 23:51:59,184: ERROR: 2164885710 18 File dataset_dict.json is missing]\n",
      "[2024-07-06 23:51:59,188: INFO: 2164885710 22 File test is present]\n",
      "[2024-07-06 23:51:59,191: INFO: 2164885710 22 File train is present]\n",
      "[2024-07-06 23:51:59,195: INFO: 2164885710 22 File validation is present]\n",
      "[2024-07-06 23:51:59,199: INFO: 1860665196 7 Data validation completed successfully: True]\n"
     ]
    }
   ],
   "source": [
    "#pipeline\n",
    "try:\n",
    "    config = ConfigurationManager()\n",
    "    data_validation_config = config.get_data_validation_config()\n",
    "    data_validation = DataValidation(config=data_validation_config)\n",
    "    validation_status = data_validation.validate_all_files_exist()\n",
    "    logger.info(f\"Data validation completed successfully: {validation_status}\")\n",
    "\n",
    "except Exception as e:\n",
    "    logger.error(f\"Error in data validation: {str(e)}\")\n",
    "    raise e\n"
   ]
  }
 ],
 "metadata": {
  "kernelspec": {
   "display_name": "venv",
   "language": "python",
   "name": "python3"
  },
  "language_info": {
   "codemirror_mode": {
    "name": "ipython",
    "version": 3
   },
   "file_extension": ".py",
   "mimetype": "text/x-python",
   "name": "python",
   "nbconvert_exporter": "python",
   "pygments_lexer": "ipython3",
   "version": "3.9.19"
  }
 },
 "nbformat": 4,
 "nbformat_minor": 2
}
